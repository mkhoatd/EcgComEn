{
 "cells": [
  {
   "cell_type": "code",
   "execution_count": 1,
   "metadata": {
    "ExecuteTime": {
     "end_time": "2023-05-30T01:40:50.676731446Z",
     "start_time": "2023-05-30T01:40:50.671410465Z"
    },
    "collapsed": true
   },
   "outputs": [],
   "source": [
    "import json\n",
    "import os\n",
    "import os.path as osp\n",
    "import pandas as pd\n",
    "import numpy as np\n"
   ]
  },
  {
   "cell_type": "code",
   "execution_count": 2,
   "metadata": {
    "ExecuteTime": {
     "end_time": "2023-05-30T01:40:51.211317795Z",
     "start_time": "2023-05-30T01:40:50.883022578Z"
    },
    "collapsed": false
   },
   "outputs": [],
   "source": [
    "DATA_PATH = 'downsample_24_train_data'\n",
    "classes = [\"N\", \"V\", \"PAB\", \"R\", \"L\", \"A\"]\n",
    "\n",
    "data_json = []\n",
    "for cl in classes:\n",
    "    for sig in os.listdir(osp.join(DATA_PATH, cl)):\n",
    "        data_json.append({\n",
    "            \"path\": osp.join(DATA_PATH, cl, sig),\n",
    "            \"label\": cl,\n",
    "            \"filename\": sig,\n",
    "            \"name\": sig.split('.')[0]\n",
    "        })\n"
   ]
  },
  {
   "cell_type": "code",
   "execution_count": 3,
   "metadata": {
    "ExecuteTime": {
     "end_time": "2023-05-30T01:40:51.332124355Z",
     "start_time": "2023-05-30T01:40:51.262298790Z"
    },
    "collapsed": false
   },
   "outputs": [],
   "source": [
    "data_json = pd.DataFrame(data_json)\n",
    "\n",
    "val_size = 0.25\n",
    "val_ids = []\n",
    "for cl in classes:\n",
    "    val_ids.extend(\n",
    "        data_json[data_json['label'] == cl].sample(frac=val_size, random_state=0)['name'].index\n",
    "    )"
   ]
  },
  {
   "cell_type": "code",
   "execution_count": 4,
   "metadata": {
    "ExecuteTime": {
     "end_time": "2023-05-30T01:40:51.694677266Z",
     "start_time": "2023-05-30T01:40:51.677387835Z"
    },
    "collapsed": false
   },
   "outputs": [],
   "source": [
    "val = data_json.loc[val_ids, :]\n",
    "train = data_json[~data_json.index.isin(list(val.index))]"
   ]
  },
  {
   "cell_type": "code",
   "execution_count": 5,
   "metadata": {
    "ExecuteTime": {
     "end_time": "2023-05-30T01:40:52.103931084Z",
     "start_time": "2023-05-30T01:40:52.088255375Z"
    },
    "collapsed": false
   },
   "outputs": [
    {
     "data": {
      "text/plain": [
       "87277"
      ]
     },
     "execution_count": 5,
     "metadata": {},
     "output_type": "execute_result"
    }
   ],
   "source": [
    "len(train)+ len(val)\n"
   ]
  },
  {
   "cell_type": "code",
   "execution_count": 6,
   "metadata": {
    "ExecuteTime": {
     "end_time": "2023-05-30T01:40:52.664388619Z",
     "start_time": "2023-05-30T01:40:52.607355988Z"
    },
    "collapsed": false
   },
   "outputs": [],
   "source": [
    "val.to_json(f'{DATA_PATH}/val.json', orient='records')\n",
    "train.to_json(f'{DATA_PATH}/train.json', orient='records')\n"
   ]
  },
  {
   "cell_type": "code",
   "execution_count": 6,
   "metadata": {
    "ExecuteTime": {
     "end_time": "2023-05-28T03:22:58.843272112Z",
     "start_time": "2023-05-28T03:22:58.842775238Z"
    },
    "collapsed": false
   },
   "outputs": [],
   "source": []
  }
 ],
 "metadata": {
  "kernelspec": {
   "display_name": "Python 3",
   "language": "python",
   "name": "python3"
  },
  "language_info": {
   "codemirror_mode": {
    "name": "ipython",
    "version": 3
   },
   "file_extension": ".py",
   "mimetype": "text/x-python",
   "name": "python",
   "nbconvert_exporter": "python",
   "pygments_lexer": "ipython3",
   "version": "3.9.16"
  }
 },
 "nbformat": 4,
 "nbformat_minor": 0
}
