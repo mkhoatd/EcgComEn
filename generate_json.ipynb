{
 "cells": [
  {
   "cell_type": "code",
   "execution_count": 1,
   "metadata": {
    "collapsed": true,
    "ExecuteTime": {
     "end_time": "2023-05-30T01:53:45.005726398Z",
     "start_time": "2023-05-30T01:53:43.694405514Z"
    }
   },
   "outputs": [],
   "source": [
    "import json\n",
    "import os\n",
    "import os.path as osp\n",
    "import pandas as pd\n",
    "import numpy as np\n"
   ]
  },
  {
   "cell_type": "code",
   "execution_count": 2,
   "outputs": [],
   "source": [
    "DATA_PATH = 'train_data'\n",
    "classes = [\"N\", \"V\", \"PAB\", \"R\", \"L\", \"A\"]\n",
    "\n",
    "data_json = []\n",
    "for cl in classes:\n",
    "    for sig in os.listdir(osp.join(DATA_PATH, cl)):\n",
    "        data_json.append({\n",
    "            \"path\": osp.join(DATA_PATH, cl, sig),\n",
    "            \"label\": cl,\n",
    "            \"filename\": sig,\n",
    "            \"name\": sig.split('.')[0]\n",
    "        })\n"
   ],
   "metadata": {
    "collapsed": false,
    "ExecuteTime": {
     "end_time": "2023-05-30T01:53:45.006904354Z",
     "start_time": "2023-05-30T01:53:43.963337150Z"
    }
   }
  },
  {
   "cell_type": "code",
   "execution_count": 3,
   "outputs": [],
   "source": [
    "data_json = pd.DataFrame(data_json)\n",
    "\n",
    "val_size = 0.25\n",
    "val_ids = []\n",
    "for cl in classes:\n",
    "    val_ids.extend(\n",
    "        data_json[data_json['label'] == cl].sample(frac=val_size, random_state=0)['name'].index\n",
    "    )"
   ],
   "metadata": {
    "collapsed": false,
    "ExecuteTime": {
     "end_time": "2023-05-30T01:53:45.007291702Z",
     "start_time": "2023-05-30T01:53:44.160874619Z"
    }
   }
  },
  {
   "cell_type": "code",
   "execution_count": 4,
   "outputs": [],
   "source": [
    "val = data_json.loc[val_ids, :]\n",
    "train = data_json[~data_json.index.isin(list(val.index))]"
   ],
   "metadata": {
    "collapsed": false,
    "ExecuteTime": {
     "end_time": "2023-05-30T01:53:45.007483086Z",
     "start_time": "2023-05-30T01:53:44.274124537Z"
    }
   }
  },
  {
   "cell_type": "code",
   "execution_count": 5,
   "outputs": [
    {
     "data": {
      "text/plain": "87342"
     },
     "execution_count": 5,
     "metadata": {},
     "output_type": "execute_result"
    }
   ],
   "source": [
    "len(train)+ len(val)\n"
   ],
   "metadata": {
    "collapsed": false,
    "ExecuteTime": {
     "end_time": "2023-05-30T01:53:45.007818201Z",
     "start_time": "2023-05-30T01:53:44.326278028Z"
    }
   }
  },
  {
   "cell_type": "code",
   "execution_count": 6,
   "outputs": [],
   "source": [
    "val.to_json(f'{DATA_PATH}/val.json', orient='records')\n",
    "train.to_json(f'{DATA_PATH}/train.json', orient='records')\n"
   ],
   "metadata": {
    "collapsed": false,
    "ExecuteTime": {
     "end_time": "2023-05-30T01:53:45.007994694Z",
     "start_time": "2023-05-30T01:53:44.326532102Z"
    }
   }
  },
  {
   "cell_type": "code",
   "execution_count": null,
   "outputs": [],
   "source": [],
   "metadata": {
    "collapsed": false,
    "ExecuteTime": {
     "start_time": "2023-05-29T23:43:55.795901660Z"
    }
   }
  }
 ],
 "metadata": {
  "kernelspec": {
   "display_name": "Python 3",
   "language": "python",
   "name": "python3"
  },
  "language_info": {
   "codemirror_mode": {
    "name": "ipython",
    "version": 2
   },
   "file_extension": ".py",
   "mimetype": "text/x-python",
   "name": "python",
   "nbconvert_exporter": "python",
   "pygments_lexer": "ipython2",
   "version": "2.7.6"
  }
 },
 "nbformat": 4,
 "nbformat_minor": 0
}
