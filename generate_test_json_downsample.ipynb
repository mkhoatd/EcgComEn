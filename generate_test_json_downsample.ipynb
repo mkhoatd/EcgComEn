{
 "cells": [
  {
   "cell_type": "code",
   "execution_count": 11,
   "metadata": {
    "ExecuteTime": {
     "end_time": "2023-05-30T01:42:14.361722308Z",
     "start_time": "2023-05-30T01:42:14.194327277Z"
    },
    "collapsed": true
   },
   "outputs": [],
   "source": [
    "import json\n",
    "import os\n",
    "import os.path as osp\n",
    "import pandas as pd\n",
    "import numpy as np\n"
   ]
  },
  {
   "cell_type": "code",
   "execution_count": 12,
   "metadata": {
    "ExecuteTime": {
     "end_time": "2023-05-30T01:42:14.367872745Z",
     "start_time": "2023-05-30T01:42:14.364373258Z"
    },
    "collapsed": false
   },
   "outputs": [],
   "source": [
    "DATA_PATH = 'downsample_24_test_data'\n",
    "classes = [\"N\", \"V\", \"PAB\", \"R\", \"L\", \"A\"]\n",
    "\n",
    "data_json = []\n",
    "for cl in classes:\n",
    "    for sig in os.listdir(osp.join(DATA_PATH, cl)):\n",
    "        data_json.append({\n",
    "            \"path\": osp.join(DATA_PATH, cl, sig),\n",
    "            \"label\": cl,\n",
    "            \"filename\": sig,\n",
    "            \"name\": sig.split('.')[0]\n",
    "        })\n"
   ]
  },
  {
   "cell_type": "code",
   "execution_count": 13,
   "metadata": {
    "ExecuteTime": {
     "end_time": "2023-05-30T01:42:14.372156252Z",
     "start_time": "2023-05-30T01:42:14.370321526Z"
    },
    "collapsed": false
   },
   "outputs": [],
   "source": [
    "data_json = pd.DataFrame(data_json)\n"
   ]
  },
  {
   "cell_type": "code",
   "execution_count": 14,
   "metadata": {
    "ExecuteTime": {
     "end_time": "2023-05-30T01:42:14.382414526Z",
     "start_time": "2023-05-30T01:42:14.377397672Z"
    },
    "collapsed": false
   },
   "outputs": [
    {
     "data": {
      "text/plain": [
       "3762"
      ]
     },
     "execution_count": 14,
     "metadata": {},
     "output_type": "execute_result"
    }
   ],
   "source": [
    "len(data_json)"
   ]
  },
  {
   "cell_type": "code",
   "execution_count": 15,
   "metadata": {
    "ExecuteTime": {
     "end_time": "2023-05-30T01:42:14.422677754Z",
     "start_time": "2023-05-30T01:42:14.422279430Z"
    },
    "collapsed": false
   },
   "outputs": [],
   "source": [
    "data_json.to_json(f'{DATA_PATH}/test.json', orient='records')\n"
   ]
  },
  {
   "cell_type": "code",
   "execution_count": null,
   "metadata": {
    "collapsed": false
   },
   "outputs": [],
   "source": []
  },
  {
   "cell_type": "code",
   "execution_count": null,
   "metadata": {},
   "outputs": [],
   "source": []
  }
 ],
 "metadata": {
  "kernelspec": {
   "display_name": "Python 3",
   "language": "python",
   "name": "python3"
  },
  "language_info": {
   "codemirror_mode": {
    "name": "ipython",
    "version": 3
   },
   "file_extension": ".py",
   "mimetype": "text/x-python",
   "name": "python",
   "nbconvert_exporter": "python",
   "pygments_lexer": "ipython3",
   "version": "3.9.16"
  }
 },
 "nbformat": 4,
 "nbformat_minor": 0
}
