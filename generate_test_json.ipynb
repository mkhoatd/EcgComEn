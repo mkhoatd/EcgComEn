{
 "cells": [
  {
   "cell_type": "code",
   "execution_count": 1,
   "metadata": {
    "collapsed": true,
    "ExecuteTime": {
     "end_time": "2023-05-30T01:54:13.924154789Z",
     "start_time": "2023-05-30T01:54:13.694361805Z"
    }
   },
   "outputs": [],
   "source": [
    "import json\n",
    "import os\n",
    "import os.path as osp\n",
    "import pandas as pd\n",
    "import numpy as np\n"
   ]
  },
  {
   "cell_type": "code",
   "execution_count": 3,
   "outputs": [],
   "source": [
    "DATA_PATH = 'test_data'\n",
    "classes = [\"N\", \"V\", \"PAB\", \"R\", \"L\", \"A\"]\n",
    "\n",
    "data_json = []\n",
    "for cl in classes:\n",
    "    for sig in os.listdir(osp.join(DATA_PATH, cl)):\n",
    "        data_json.append({\n",
    "            \"path\": osp.join(DATA_PATH, cl, sig),\n",
    "            \"label\": cl,\n",
    "            \"filename\": sig,\n",
    "            \"name\": sig.split('.')[0]\n",
    "        })\n"
   ],
   "metadata": {
    "collapsed": false,
    "ExecuteTime": {
     "end_time": "2023-05-30T01:54:22.712880472Z",
     "start_time": "2023-05-30T01:54:22.699175677Z"
    }
   }
  },
  {
   "cell_type": "code",
   "execution_count": 4,
   "outputs": [],
   "source": [
    "data_json = pd.DataFrame(data_json)\n"
   ],
   "metadata": {
    "collapsed": false,
    "ExecuteTime": {
     "end_time": "2023-05-30T01:54:23.975118118Z",
     "start_time": "2023-05-30T01:54:23.971074156Z"
    }
   }
  },
  {
   "cell_type": "code",
   "execution_count": 5,
   "outputs": [
    {
     "data": {
      "text/plain": "4414"
     },
     "execution_count": 5,
     "metadata": {},
     "output_type": "execute_result"
    }
   ],
   "source": [
    "len(data_json)"
   ],
   "metadata": {
    "collapsed": false,
    "ExecuteTime": {
     "end_time": "2023-05-30T01:54:24.488259644Z",
     "start_time": "2023-05-30T01:54:24.480266890Z"
    }
   }
  },
  {
   "cell_type": "code",
   "execution_count": 6,
   "outputs": [],
   "source": [
    "data_json.to_json(f'{DATA_PATH}/test.json', orient='records')\n"
   ],
   "metadata": {
    "collapsed": false,
    "ExecuteTime": {
     "end_time": "2023-05-30T01:54:25.032842901Z",
     "start_time": "2023-05-30T01:54:25.021249774Z"
    }
   }
  },
  {
   "cell_type": "code",
   "execution_count": null,
   "outputs": [],
   "source": [],
   "metadata": {
    "collapsed": false
   }
  }
 ],
 "metadata": {
  "kernelspec": {
   "display_name": "Python 3",
   "language": "python",
   "name": "python3"
  },
  "language_info": {
   "codemirror_mode": {
    "name": "ipython",
    "version": 2
   },
   "file_extension": ".py",
   "mimetype": "text/x-python",
   "name": "python",
   "nbconvert_exporter": "python",
   "pygments_lexer": "ipython2",
   "version": "2.7.6"
  }
 },
 "nbformat": 4,
 "nbformat_minor": 0
}
