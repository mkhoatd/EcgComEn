{
 "cells": [
  {
   "cell_type": "code",
   "execution_count": 1,
   "metadata": {
    "collapsed": true,
    "ExecuteTime": {
     "end_time": "2023-05-28T02:54:59.556630573Z",
     "start_time": "2023-05-28T02:54:58.751654282Z"
    }
   },
   "outputs": [],
   "source": [
    "import wfdb\n",
    "import numpy as np\n",
    "import neurokit2 as nk\n",
    "import os\n",
    "import os.path as osp\n",
    "from wfdb import rdrecord\n",
    "import cv2\n",
    "import matplotlib.pyplot as plt"
   ]
  },
  {
   "cell_type": "code",
   "execution_count": 2,
   "outputs": [
    {
     "data": {
      "text/plain": "['100',\n '101',\n '102',\n '103',\n '104',\n '105',\n '106',\n '107',\n '108',\n '109',\n '111',\n '112',\n '113',\n '114',\n '115',\n '116',\n '117',\n '118',\n '119',\n '121',\n '122',\n '123',\n '124',\n '200',\n '201',\n '202',\n '203',\n '205',\n '207',\n '208',\n '209',\n '210',\n '212',\n '213',\n '214',\n '215',\n '217',\n '219',\n '220',\n '221',\n '222',\n '223',\n '228',\n '230',\n '231',\n '232',\n '233',\n '234']"
     },
     "execution_count": 2,
     "metadata": {},
     "output_type": "execute_result"
    }
   ],
   "source": [
    "MIT_DIR = 'mit-bih'\n",
    "sig_names = list(map(lambda x: x.split('.')[0],filter(lambda x: x.endswith('.dat'), os.listdir(MIT_DIR))))\n",
    "sig_names.sort(key=lambda x: int(x))\n",
    "sig_names\n"
   ],
   "metadata": {
    "collapsed": false,
    "ExecuteTime": {
     "end_time": "2023-05-28T02:54:59.567649761Z",
     "start_time": "2023-05-28T02:54:59.558180494Z"
    }
   }
  },
  {
   "cell_type": "code",
   "execution_count": 3,
   "outputs": [],
   "source": [
    "sig_names_with_mlii = []\n",
    "for sig_name in sig_names:\n",
    "    record = rdrecord(osp.join(MIT_DIR, sig_name))\n",
    "    if 'MLII' in record.sig_name:\n",
    "        sig_names_with_mlii.append((sig_name, record.sig_name.index('MLII')))\n"
   ],
   "metadata": {
    "collapsed": false,
    "ExecuteTime": {
     "end_time": "2023-05-28T02:55:00.359111015Z",
     "start_time": "2023-05-28T02:54:59.567296891Z"
    }
   }
  },
  {
   "cell_type": "code",
   "execution_count": 11,
   "outputs": [],
   "source": [
    "test_file_names = ['100', '101', '103', '106', '107', '118', '109', '209']"
   ],
   "metadata": {
    "collapsed": false,
    "ExecuteTime": {
     "end_time": "2023-05-28T02:57:34.423826409Z",
     "start_time": "2023-05-28T02:57:34.420961237Z"
    }
   }
  },
  {
   "cell_type": "code",
   "execution_count": 13,
   "outputs": [
    {
     "data": {
      "text/plain": "array([['100', '0'],\n       ['101', '0'],\n       ['103', '0'],\n       ['105', '0'],\n       ['106', '0'],\n       ['107', '0'],\n       ['108', '0'],\n       ['109', '0'],\n       ['111', '0'],\n       ['112', '0'],\n       ['113', '0'],\n       ['114', '1'],\n       ['115', '0'],\n       ['116', '0'],\n       ['117', '0'],\n       ['118', '0'],\n       ['119', '0'],\n       ['121', '0'],\n       ['122', '0'],\n       ['123', '0'],\n       ['124', '0'],\n       ['200', '0'],\n       ['201', '0'],\n       ['202', '0'],\n       ['203', '0'],\n       ['205', '0'],\n       ['207', '0'],\n       ['208', '0'],\n       ['209', '0'],\n       ['210', '0'],\n       ['212', '0'],\n       ['213', '0'],\n       ['214', '0'],\n       ['215', '0'],\n       ['217', '0'],\n       ['219', '0'],\n       ['220', '0'],\n       ['221', '0'],\n       ['222', '0'],\n       ['223', '0'],\n       ['228', '0'],\n       ['230', '0'],\n       ['231', '0'],\n       ['232', '0'],\n       ['233', '0'],\n       ['234', '0']], dtype='<U21')"
     },
     "execution_count": 13,
     "metadata": {},
     "output_type": "execute_result"
    }
   ],
   "source": [
    "arr = np.array(sig_names_with_mlii)\n",
    "arr[arr[:, 0].argsort()]"
   ],
   "metadata": {
    "collapsed": false,
    "ExecuteTime": {
     "end_time": "2023-05-28T02:58:01.362376744Z",
     "start_time": "2023-05-28T02:58:01.358185860Z"
    }
   }
  },
  {
   "cell_type": "code",
   "execution_count": 4,
   "outputs": [],
   "source": [
    "#\n",
    "# class_rec = {'N': ['100', '101', '103', '105'], 'V': ['106', '116', '119', '200'], 'PAB': ['102', '104', '107', '217'], 'R': ['118', '124', '212', '231'], 'L': ['109', '111', '207', '213'], 'A': ['209', '220', '222', '223', '232'], '!': ['207'], 'E': ['207']}\n"
   ],
   "metadata": {
    "collapsed": false,
    "ExecuteTime": {
     "end_time": "2023-05-28T02:55:00.362130386Z",
     "start_time": "2023-05-28T02:55:00.359857279Z"
    }
   }
  },
  {
   "cell_type": "code",
   "execution_count": 5,
   "outputs": [],
   "source": [
    "# class_rec_mlii = {}\n",
    "# for k, v in class_rec.items():\n",
    "#     class_rec_mlii[k] = []\n",
    "#     for sig_name, mlii_idx in sig_names_with_mlii:\n",
    "#         if sig_name in v:\n",
    "#             class_rec_mlii[k].append((sig_name, mlii_idx))\n"
   ],
   "metadata": {
    "collapsed": false,
    "ExecuteTime": {
     "end_time": "2023-05-28T02:55:00.364961570Z",
     "start_time": "2023-05-28T02:55:00.363571660Z"
    }
   }
  },
  {
   "cell_type": "code",
   "execution_count": 6,
   "outputs": [],
   "source": [
    "# class_rec_mlii"
   ],
   "metadata": {
    "collapsed": false,
    "ExecuteTime": {
     "end_time": "2023-05-28T02:55:00.368189439Z",
     "start_time": "2023-05-28T02:55:00.366574890Z"
    }
   }
  },
  {
   "cell_type": "code",
   "execution_count": 7,
   "outputs": [],
   "source": [
    "classes = [\"N\", \"V\", \"PAB\", \"R\", \"L\", \"A\", \"!\", \"E\"]\n",
    "\n",
    "OUTPUT_DIR = 'custom_cut_data'\n",
    "if not osp.exists(OUTPUT_DIR):\n",
    "    os.mkdir(OUTPUT_DIR)\n",
    "for class_name in classes:\n",
    "    if not osp.exists(osp.join(OUTPUT_DIR, class_name)):\n",
    "        os.mkdir(osp.join(OUTPUT_DIR, class_name))\n"
   ],
   "metadata": {
    "collapsed": false,
    "ExecuteTime": {
     "end_time": "2023-05-28T02:55:00.371429819Z",
     "start_time": "2023-05-28T02:55:00.369993904Z"
    }
   }
  },
  {
   "cell_type": "code",
   "execution_count": 8,
   "outputs": [],
   "source": [
    "def plot(signal, figsize, image_size, filename):\n",
    "    plt.figure(figsize=figsize, frameon=False)\n",
    "    plt.axis(\"off\")\n",
    "    plt.subplots_adjust(top=1, bottom=0, right=1, left=0, hspace=0, wspace=0)\n",
    "    # plt.margins(0, 0) # use for generation images with no margin\n",
    "    plt.plot(signal)\n",
    "    plt.savefig(filename)\n",
    "\n",
    "    plt.close()\n",
    "\n",
    "    im_gray = cv2.imread(filename, cv2.IMREAD_GRAYSCALE)\n",
    "    im_gray = cv2.resize(im_gray, image_size, interpolation=cv2.INTER_LANCZOS4)\n",
    "    cv2.imwrite(filename, im_gray)\n"
   ],
   "metadata": {
    "collapsed": false,
    "ExecuteTime": {
     "end_time": "2023-05-28T02:55:00.415433281Z",
     "start_time": "2023-05-28T02:55:00.373812106Z"
    }
   }
  },
  {
   "cell_type": "code",
   "execution_count": 9,
   "outputs": [
    {
     "data": {
      "text/plain": "<Figure size 640x480 with 0 Axes>"
     },
     "metadata": {},
     "output_type": "display_data"
    }
   ],
   "source": [
    "image_size = 128\n",
    "fig = plt.figure(frameon=False)\n",
    "dpi = fig.dpi\n",
    "figsize = (image_size / dpi, image_size / dpi)\n"
   ],
   "metadata": {
    "collapsed": false,
    "ExecuteTime": {
     "end_time": "2023-05-28T02:55:00.416704898Z",
     "start_time": "2023-05-28T02:55:00.415683131Z"
    }
   }
  },
  {
   "cell_type": "code",
   "execution_count": 10,
   "outputs": [],
   "source": [
    "def create_data(sig_names_with_mlii):\n",
    "    for sig_name, sig_idx in sig_names_with_mlii:\n",
    "        record = rdrecord(osp.join(MIT_DIR, sig_name))\n",
    "        signal = record.p_signal[:, sig_idx]\n",
    "        _, rpeaks = nk.ecg_process(signal, sampling_rate=360)\n",
    "        rpeaks_detected = rpeaks['ECG_R_Peaks']\n",
    "        ann = wfdb.rdann(osp.join(MIT_DIR, sig_name), 'atr')\n",
    "        rpeaks_true = ann.sample\n",
    "        peak_pairs = []\n",
    "        labels = []\n",
    "\n",
    "        for idx in range(len(rpeaks_true[:-1])):\n",
    "            curr_range = rpeaks_true[idx:idx+3]\n",
    "            detected_peaks_in_range = rpeaks_detected[(curr_range[0]<rpeaks_detected) & (rpeaks_detected<curr_range[-1])]\n",
    "            if len(detected_peaks_in_range) == 2:\n",
    "                peak_pairs.append((curr_range[1], detected_peaks_in_range[0]))\n",
    "                labels.append(ann.symbol[idx+1])\n",
    "        peak_pairs_np = np.stack(peak_pairs)\n",
    "        err_range = peak_pairs_np[:, 0] - peak_pairs_np[:, 1]\n",
    "        peak_pairs_np = peak_pairs_np[err_range<10]\n",
    "        labels = np.array(labels)[err_range<10]\n",
    "\n",
    "\n",
    "        ann_idx = ann.sample\n",
    "        ann_symbol = ann.symbol\n",
    "        for i in range(len(ann_idx)):\n",
    "            if ann_symbol[i] in classes:\n",
    "                start = ann_idx[i] - 360\n",
    "                end = ann_idx[i] + 360\n",
    "                if start < 0:\n",
    "                    start = 0\n",
    "                if end > len(signal):\n",
    "                    end = len(signal)\n",
    "                signal = signal[start:end]\n",
    "                filename = osp.join(OUTPUT_DIR, ann_symbol[i], f'{sig_name}_{i}.png')\n",
    "                plot(signal, figsize, (image_size, image_size), filename)\n"
   ],
   "metadata": {
    "collapsed": false,
    "ExecuteTime": {
     "end_time": "2023-05-28T02:55:00.416857468Z",
     "start_time": "2023-05-28T02:55:00.416243278Z"
    }
   }
  }
 ],
 "metadata": {
  "kernelspec": {
   "display_name": "Python 3",
   "language": "python",
   "name": "python3"
  },
  "language_info": {
   "codemirror_mode": {
    "name": "ipython",
    "version": 2
   },
   "file_extension": ".py",
   "mimetype": "text/x-python",
   "name": "python",
   "nbconvert_exporter": "python",
   "pygments_lexer": "ipython2",
   "version": "2.7.6"
  }
 },
 "nbformat": 4,
 "nbformat_minor": 0
}
